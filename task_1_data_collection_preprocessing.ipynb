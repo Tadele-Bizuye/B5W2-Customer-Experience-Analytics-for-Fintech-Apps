{
 "cells": [
  {
   "cell_type": "markdown",
   "id": "bb9fcd03",
   "metadata": {},
   "source": [
    "# Task 1: Data Collection and Preprocessing\n",
    "\n",
    "#### Name: Tadele Bizuye\n",
    "\n",
    "This notebook handles the scraping and preprocessing of mobile banking app reviews from the Google Play Store for:\n",
    "\n",
    "- Commercial Bank of Ethiopia (CBE)\n",
    "- Bank of Abyssinia (BOA)\n",
    "- Dashen Bank\n",
    "\n",
    "## Objectives:\n",
    "- Scrape 400+ reviews per bank\n",
    "- Clean and preprocess the data\n",
    "- Store cleaned data in CSV format\n",
    "- Maintain version control with Git\n"
   ]
  },
  {
   "cell_type": "code",
   "execution_count": 2,
   "id": "412dad3f",
   "metadata": {},
   "outputs": [],
   "source": [
    "# Import Neccessary Liberarys\n",
    "import pandas as pd\n",
    "from google_play_scraper import Sort, reviews\n",
    "from datetime import datetime\n"
   ]
  },
  {
   "cell_type": "code",
   "execution_count": 3,
   "id": "0db3443f",
   "metadata": {},
   "outputs": [],
   "source": [
    "from google_play_scraper import reviews, reviews_all\n",
    "import pandas as pd\n",
    "import time\n",
    "\n",
    "def fetch_reviews(app_id, bank_name, n_reviews=400):\n",
    "    all_reviews = []\n",
    "    token = None\n",
    "\n",
    "    while len(all_reviews) < n_reviews:\n",
    "        review_batch, token = reviews(\n",
    "            app_id,\n",
    "            count=200,\n",
    "            continuation_token=token\n",
    "        )\n",
    "        if not review_batch:\n",
    "            print(f\"[{bank_name}] No more reviews returned.\")\n",
    "            break\n",
    "\n",
    "        for r in review_batch:\n",
    "            all_reviews.append({\n",
    "                'review': r.get('content'),\n",
    "                'rating': r.get('score'),\n",
    "                'date': r.get('at').strftime('%Y-%m-%d') if r.get('at') else None,\n",
    "                'bank': bank_name,\n",
    "                'source': 'Google Play'\n",
    "            })\n",
    "        print(f\"[{bank_name}] Collected {len(all_reviews)} reviews so far...\")\n",
    "        time.sleep(1)\n",
    "\n",
    "    print(f\"[{bank_name}] Final count: {len(all_reviews)} reviews\")\n",
    "    return all_reviews[:n_reviews]"
   ]
  },
  {
   "cell_type": "code",
   "execution_count": 4,
   "id": "56171db3",
   "metadata": {},
   "outputs": [
    {
     "name": "stdout",
     "output_type": "stream",
     "text": [
      "[CBE] Collected 200 reviews so far...\n",
      "[CBE] Collected 400 reviews so far...\n",
      "[CBE] Final count: 400 reviews\n",
      "[BOA] Collected 200 reviews so far...\n",
      "[BOA] Collected 400 reviews so far...\n",
      "[BOA] Final count: 400 reviews\n",
      "[Dashen] Collected 200 reviews so far...\n",
      "[Dashen] Collected 400 reviews so far...\n",
      "[Dashen] Final count: 400 reviews\n"
     ]
    }
   ],
   "source": [
    "# Try them:\n",
    "cbe_reviews = fetch_reviews('com.combanketh.mobilebanking', 'CBE')\n",
    "boa_reviews = fetch_reviews('com.boa.boaMobileBanking', 'BOA')\n",
    "dashen_reviews = fetch_reviews('com.dashen.dashensuperapp', 'Dashen')"
   ]
  },
  {
   "cell_type": "code",
   "execution_count": 5,
   "id": "6e6c94d0",
   "metadata": {},
   "outputs": [
    {
     "data": {
      "text/html": [
       "<div>\n",
       "<style scoped>\n",
       "    .dataframe tbody tr th:only-of-type {\n",
       "        vertical-align: middle;\n",
       "    }\n",
       "\n",
       "    .dataframe tbody tr th {\n",
       "        vertical-align: top;\n",
       "    }\n",
       "\n",
       "    .dataframe thead th {\n",
       "        text-align: right;\n",
       "    }\n",
       "</style>\n",
       "<table border=\"1\" class=\"dataframe\">\n",
       "  <thead>\n",
       "    <tr style=\"text-align: right;\">\n",
       "      <th></th>\n",
       "      <th>review</th>\n",
       "      <th>rating</th>\n",
       "      <th>date</th>\n",
       "      <th>bank</th>\n",
       "      <th>source</th>\n",
       "    </tr>\n",
       "  </thead>\n",
       "  <tbody>\n",
       "    <tr>\n",
       "      <th>0</th>\n",
       "      <td>የምትቆርጦት ነገር በዛች እጂ</td>\n",
       "      <td>5</td>\n",
       "      <td>2025-06-10</td>\n",
       "      <td>CBE</td>\n",
       "      <td>Google Play</td>\n",
       "    </tr>\n",
       "    <tr>\n",
       "      <th>1</th>\n",
       "      <td>. Reviewing content on Play is a great way to ...</td>\n",
       "      <td>5</td>\n",
       "      <td>2025-06-10</td>\n",
       "      <td>CBE</td>\n",
       "      <td>Google Play</td>\n",
       "    </tr>\n",
       "    <tr>\n",
       "      <th>2</th>\n",
       "      <td>So bad now and hard to use</td>\n",
       "      <td>5</td>\n",
       "      <td>2025-06-09</td>\n",
       "      <td>CBE</td>\n",
       "      <td>Google Play</td>\n",
       "    </tr>\n",
       "    <tr>\n",
       "      <th>3</th>\n",
       "      <td>it is so amazing app. but, it is better to upd...</td>\n",
       "      <td>5</td>\n",
       "      <td>2025-06-09</td>\n",
       "      <td>CBE</td>\n",
       "      <td>Google Play</td>\n",
       "    </tr>\n",
       "    <tr>\n",
       "      <th>4</th>\n",
       "      <td>v.good app</td>\n",
       "      <td>4</td>\n",
       "      <td>2025-06-09</td>\n",
       "      <td>CBE</td>\n",
       "      <td>Google Play</td>\n",
       "    </tr>\n",
       "  </tbody>\n",
       "</table>\n",
       "</div>"
      ],
      "text/plain": [
       "                                              review  rating        date bank  \\\n",
       "0                                 የምትቆርጦት ነገር በዛች እጂ       5  2025-06-10  CBE   \n",
       "1  . Reviewing content on Play is a great way to ...       5  2025-06-10  CBE   \n",
       "2                         So bad now and hard to use       5  2025-06-09  CBE   \n",
       "3  it is so amazing app. but, it is better to upd...       5  2025-06-09  CBE   \n",
       "4                                         v.good app       4  2025-06-09  CBE   \n",
       "\n",
       "        source  \n",
       "0  Google Play  \n",
       "1  Google Play  \n",
       "2  Google Play  \n",
       "3  Google Play  \n",
       "4  Google Play  "
      ]
     },
     "execution_count": 5,
     "metadata": {},
     "output_type": "execute_result"
    }
   ],
   "source": [
    "\n",
    "# Combine\n",
    "df = pd.DataFrame(cbe_reviews + boa_reviews + dashen_reviews)\n",
    "\n",
    "# Drop duplicates and missing values\n",
    "df.drop_duplicates(subset='review', inplace=True)\n",
    "df.dropna(subset=['review', 'rating'], inplace=True)\n",
    "\n",
    "# Normalize date\n",
    "df['date'] = pd.to_datetime(df['date']).dt.date\n",
    "\n",
    "# Save cleaned data\n",
    "df.to_csv('cleaned_bank_reviews.csv', index=False)\n",
    "df.head()\n"
   ]
  },
  {
   "cell_type": "code",
   "execution_count": null,
   "id": "75b6a64e",
   "metadata": {},
   "outputs": [],
   "source": [
    "# We Need to ensure lowercase reviews\n",
    "df['review'] = df['review'].str.lower()"
   ]
  },
  {
   "cell_type": "code",
   "execution_count": null,
   "id": "4c977286",
   "metadata": {},
   "outputs": [],
   "source": [
    "# Strip extra whitespace and punctuation\n",
    "df['review'] = df['review'].str.strip().str.replace(r'\\s+', ' ', regex=True)"
   ]
  },
  {
   "cell_type": "code",
   "execution_count": null,
   "id": "c56ac128",
   "metadata": {},
   "outputs": [],
   "source": [
    "# Drop short or meaningless reviews\n",
    "df = df[df['review'].str.split().str.len() > 2]\n"
   ]
  },
  {
   "cell_type": "code",
   "execution_count": null,
   "id": "06da909c",
   "metadata": {},
   "outputs": [
    {
     "name": "stdout",
     "output_type": "stream",
     "text": [
      "Missing % per column:\n",
      " review    0.0\n",
      "rating    0.0\n",
      "date      0.0\n",
      "bank      0.0\n",
      "source    0.0\n",
      "dtype: float64\n"
     ]
    }
   ],
   "source": [
    "# Confirm missing data is less than 5%\n",
    "missing_pct = df.isna().mean() * 100\n",
    "print(\"Missing % per column:\\n\", missing_pct)\n"
   ]
  },
  {
   "cell_type": "code",
   "execution_count": null,
   "id": "3b3ddf35",
   "metadata": {},
   "outputs": [],
   "source": [
    "# Save Updated CSV\n",
    "df.to_csv('final_cleaned_reviews.csv', index=False)"
   ]
  },
  {
   "cell_type": "code",
   "execution_count": null,
   "id": "f0381b00",
   "metadata": {},
   "outputs": [],
   "source": []
  }
 ],
 "metadata": {
  "kernelspec": {
   "display_name": "Python 3",
   "language": "python",
   "name": "python3"
  },
  "language_info": {
   "codemirror_mode": {
    "name": "ipython",
    "version": 3
   },
   "file_extension": ".py",
   "mimetype": "text/x-python",
   "name": "python",
   "nbconvert_exporter": "python",
   "pygments_lexer": "ipython3",
   "version": "3.12.7"
  }
 },
 "nbformat": 4,
 "nbformat_minor": 5
}
